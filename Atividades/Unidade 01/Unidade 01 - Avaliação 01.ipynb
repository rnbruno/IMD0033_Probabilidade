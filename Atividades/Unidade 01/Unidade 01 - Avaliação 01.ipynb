{
 "cells": [
  {
   "cell_type": "markdown",
   "metadata": {},
   "source": [
    "## Unidade 01 - Avaliação 01\n",
    "\n",
    "- **Aluno**: --preencher o nome completo--\n",
    "- **Matrícula**: --preencer com a matrícula--\n",
    "\n",
    "<br>\n",
    "<div class=\"alert alert-info\">\n",
    "<b>Avisos.</b>\n",
    "</div>\n",
    "\n",
    "1. O conceito desta avaliação corresponde a **40% da primera unidade**. Os assuntos aqui abordados fazem menção as sete primeiras aulas do curso.\n",
    "2. O notebook deverá ser renomeado para o nome completo do aluno seguindo o formato: Ivanovitch_Medeiros_Dantas_da_Silva.ipynb\n",
    "3. Todas as questões devem ser respondidas através de códigos escritos em linguagem Python e no espaço destinado para esse fim. Criem células Markdown para destacar quando inicia e termina as questões. \n",
    "4. O notebook resultante deverá ser enviado através do Sigaa conforme tarefa cadastrada pelo professor. Ressalta-se que após o horário de final da aula, a submissão da tarefa estará fechada no Sigaa. \n",
    "5. O arquivo da base de dados não deve ser alterado. "
   ]
  },
  {
   "cell_type": "markdown",
   "metadata": {},
   "source": [
    "## Base de dados\n",
    "\n",
    "Nessa avaliação será utilizado a base de dados referente ao desempenho dos alunos do Instituto Metropole Digital em disciplinas do núcleo comum do curso de Bacharelado em Tecnologia da Informação. As informações sobre os alunos e disciplinas estão codificadas a fim de manter o anonimato e privacidade dos dados. \n",
    "\n",
    "A base de dados está em formato de planilha em excel. Para carregar esse arquivo em formato de **dataframe** utilizar o código abaixo: \n",
    "\n",
    ">```python\n",
    "# Importar as bibliotecas necessárias\n",
    "import pandas as pd\n",
    "# Atribuir o nome da planilha para a variável \"arquivo\"\n",
    "arquivo = 'imd_notas.xlsx'\n",
    "# Carregar a base de dados para um objeto pandas.io.excel.ExcelFile\n",
    "excel = pd.ExcelFile(arquivo)\n",
    "# Imprimir o nome das planilhas\n",
    "print(excel.sheet_names)\n",
    "# Carregar a planilha excel para um objeto dataframe\n",
    "dados = excel.parse(0)\n",
    "# Imprimir as cinco primeiras linhas do dataframe\n",
    "dados.head()\n",
    "```"
   ]
  },
  {
   "cell_type": "markdown",
   "metadata": {},
   "source": [
    "## a) (2.0 pontos) Investigando a base de dados\n",
    "\n",
    "1. (0.2 pontos) Quais as colunas da base de dados?\n",
    "2. (0.5 pontos)Quais colunas apresentam valores nulos (faltantes)? Em caso afirmativo, quantas linhas de cada coluna apresentam valores nulos?\n",
    "3. (0.5 pontos) Quantos CEPs diferentes estão presentes na base de dados?\n",
    "4. (0.4 pontos) Quantos alunos foram registrados?\n",
    "5. (0.2 pontos) Qual o período em anos dos registros presentes na base de dados?\n",
    "6. (0.2 ponto) Quantas disciplinas foram analisadas?"
   ]
  },
  {
   "cell_type": "code",
   "execution_count": null,
   "metadata": {
    "collapsed": true
   },
   "outputs": [],
   "source": [
    "# <inserir o seu código aqui>"
   ]
  },
  {
   "cell_type": "markdown",
   "metadata": {},
   "source": [
    "## b) (2.0 pontos) Investigando a localização dos alunos\n",
    "\n",
    "\n",
    "1. (2.0 pontos) Listar a quantidade total de alunos presentes nos cinco CEPs com mais registros.\n",
    "\n",
    "<dica - consultar as funções duplicated() e value_counts()"
   ]
  },
  {
   "cell_type": "code",
   "execution_count": null,
   "metadata": {
    "collapsed": true
   },
   "outputs": [],
   "source": [
    "# <inserir o seu código aqui>"
   ]
  },
  {
   "cell_type": "markdown",
   "metadata": {},
   "source": [
    "## c) (6.0 pontos) Investigando o desempenho das disciplinas\n",
    "\n",
    "1. (1 ponto) Calcular as notas médias para cada disciplina.\n",
    "2. (1,5 pontos) Calcular as notas médias para cada disciplina agrupadas por ano.\n",
    "3. (2,0 pontos) Calcular o número de alunos aprovados e reprovados por disciplina e agrupados por ano.\n",
    "4. (1,5 pontos) Calcular a quantidade de alunos classificados de acordo com a coluna status da base de dados. "
   ]
  },
  {
   "cell_type": "code",
   "execution_count": null,
   "metadata": {
    "collapsed": true
   },
   "outputs": [],
   "source": [
    "# <inserir o seu código aqui>"
   ]
  }
 ],
 "metadata": {
  "kernelspec": {
   "display_name": "Python 3",
   "language": "python",
   "name": "python3"
  },
  "language_info": {
   "codemirror_mode": {
    "name": "ipython",
    "version": 3
   },
   "file_extension": ".py",
   "mimetype": "text/x-python",
   "name": "python",
   "nbconvert_exporter": "python",
   "pygments_lexer": "ipython3",
   "version": "3.6.0"
  }
 },
 "nbformat": 4,
 "nbformat_minor": 2
}
